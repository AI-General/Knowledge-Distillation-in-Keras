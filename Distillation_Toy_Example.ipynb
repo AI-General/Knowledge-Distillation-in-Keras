{
  "nbformat": 4,
  "nbformat_minor": 0,
  "metadata": {
    "colab": {
      "name": "Distillation Toy Example.ipynb",
      "provenance": [],
      "collapsed_sections": [],
      "authorship_tag": "ABX9TyNdsf1Gm409katI9zwp+CcZ",
      "include_colab_link": true
    },
    "kernelspec": {
      "name": "python3",
      "display_name": "Python 3"
    },
    "accelerator": "GPU"
  },
  "cells": [
    {
      "cell_type": "markdown",
      "metadata": {
        "id": "view-in-github",
        "colab_type": "text"
      },
      "source": [
        "<a href=\"https://colab.research.google.com/github/sayakpaul/Knowledge-Distillation-in-Keras/blob/master/Distillation_Toy_Example.ipynb\" target=\"_parent\"><img src=\"https://colab.research.google.com/assets/colab-badge.svg\" alt=\"Open In Colab\"/></a>"
      ]
    },
    {
      "cell_type": "code",
      "metadata": {
        "id": "cBctyswACU4c",
        "colab_type": "code",
        "colab": {}
      },
      "source": [
        "# Imports\n",
        "import tensorflow as tf\n",
        "\n",
        "from tensorflow.keras import models\n",
        "from tensorflow.keras import layers\n",
        "\n",
        "tf.random.set_seed(666)"
      ],
      "execution_count": 1,
      "outputs": []
    },
    {
      "cell_type": "code",
      "metadata": {
        "id": "YrhXamQACk6S",
        "colab_type": "code",
        "colab": {
          "base_uri": "https://localhost:8080/",
          "height": 170
        },
        "outputId": "b1d334d2-b8f4-4ffe-c7b4-4d1cac485416"
      },
      "source": [
        "# Load the FashionMNIST dataset, scale the pixel values\n",
        "(X_train, y_train), (X_test, y_test) = tf.keras.datasets.fashion_mnist.load_data()\n",
        "X_train = X_train/255.\n",
        "X_test = X_test/255.\n",
        "\n",
        "X_train.shape, X_test.shape, y_train.shape, y_test.shape"
      ],
      "execution_count": 2,
      "outputs": [
        {
          "output_type": "stream",
          "text": [
            "Downloading data from https://storage.googleapis.com/tensorflow/tf-keras-datasets/train-labels-idx1-ubyte.gz\n",
            "32768/29515 [=================================] - 0s 0us/step\n",
            "Downloading data from https://storage.googleapis.com/tensorflow/tf-keras-datasets/train-images-idx3-ubyte.gz\n",
            "26427392/26421880 [==============================] - 0s 0us/step\n",
            "Downloading data from https://storage.googleapis.com/tensorflow/tf-keras-datasets/t10k-labels-idx1-ubyte.gz\n",
            "8192/5148 [===============================================] - 0s 0us/step\n",
            "Downloading data from https://storage.googleapis.com/tensorflow/tf-keras-datasets/t10k-images-idx3-ubyte.gz\n",
            "4423680/4422102 [==============================] - 0s 0us/step\n"
          ],
          "name": "stdout"
        },
        {
          "output_type": "execute_result",
          "data": {
            "text/plain": [
              "((60000, 28, 28), (10000, 28, 28), (60000,), (10000,))"
            ]
          },
          "metadata": {
            "tags": []
          },
          "execution_count": 2
        }
      ]
    },
    {
      "cell_type": "code",
      "metadata": {
        "id": "ZYeuzIyPCor2",
        "colab_type": "code",
        "colab": {}
      },
      "source": [
        "# Change the pixel values to float32 and reshape input data\n",
        "X_train = X_train.astype(\"float32\").reshape(-1, 28, 28, 1)\n",
        "X_test = X_test.astype(\"float32\").reshape(-1, 28, 28, 1)"
      ],
      "execution_count": 3,
      "outputs": []
    },
    {
      "cell_type": "code",
      "metadata": {
        "id": "7R-PxhlfCqtu",
        "colab_type": "code",
        "colab": {}
      },
      "source": [
        "# Define utility function for building a basic shallow Convnet \n",
        "def get_teacher_model():\n",
        "    model = models.Sequential()\n",
        "    model.add(layers.Conv2D(16, (5, 5), activation=\"relu\",\n",
        "        input_shape=(28, 28, 1)))\n",
        "    model.add(layers.MaxPooling2D(pool_size=(2, 2)))\n",
        "    model.add(layers.Conv2D(32, (5, 5), activation=\"relu\"))\n",
        "    model.add(layers.MaxPooling2D(pool_size=(2, 2)))\n",
        "    model.add(layers.Dropout(0.2))\n",
        "    model.add(layers.Flatten())\n",
        "    model.add(layers.Dense(128, activation=\"relu\"))\n",
        "    model.add(layers.Dense(10))\n",
        "    \n",
        "    return model"
      ],
      "execution_count": 4,
      "outputs": []
    },
    {
      "cell_type": "code",
      "metadata": {
        "id": "l07x1M5ADDWt",
        "colab_type": "code",
        "colab": {}
      },
      "source": [
        "# Define loass function and optimizer\n",
        "loss_func = tf.keras.losses.SparseCategoricalCrossentropy(from_logits=True)\n",
        "optimizer = tf.keras.optimizers.Adam()"
      ],
      "execution_count": 5,
      "outputs": []
    },
    {
      "cell_type": "code",
      "metadata": {
        "id": "lcBBDW2JDI6y",
        "colab_type": "code",
        "colab": {
          "base_uri": "https://localhost:8080/",
          "height": 374
        },
        "outputId": "fcb0ef44-bff1-4b0d-d6c1-73aac90b2c2f"
      },
      "source": [
        "# Prepare TF dataset\n",
        "train_ds = tf.data.Dataset.from_tensor_slices((X_train, y_train)).shuffle(100).batch(64)\n",
        "test_ds = tf.data.Dataset.from_tensor_slices((X_test, y_test)).batch(64)\n",
        "\n",
        "# Train the teacher model\n",
        "teacher_model = get_teacher_model()\n",
        "teacher_model.compile(loss=loss_func, optimizer=optimizer, metrics=[\"accuracy\"])\n",
        "teacher_model.fit(train_ds,\n",
        "                  validation_data=test_ds,\n",
        "                  epochs=10)"
      ],
      "execution_count": 6,
      "outputs": [
        {
          "output_type": "stream",
          "text": [
            "Epoch 1/10\n",
            "938/938 [==============================] - 5s 6ms/step - loss: 0.5778 - accuracy: 0.7893 - val_loss: 0.4358 - val_accuracy: 0.8422\n",
            "Epoch 2/10\n",
            "938/938 [==============================] - 5s 6ms/step - loss: 0.3871 - accuracy: 0.8596 - val_loss: 0.3928 - val_accuracy: 0.8524\n",
            "Epoch 3/10\n",
            "938/938 [==============================] - 6s 6ms/step - loss: 0.3369 - accuracy: 0.8756 - val_loss: 0.3416 - val_accuracy: 0.8725\n",
            "Epoch 4/10\n",
            "938/938 [==============================] - 6s 6ms/step - loss: 0.3072 - accuracy: 0.8874 - val_loss: 0.3268 - val_accuracy: 0.8809\n",
            "Epoch 5/10\n",
            "938/938 [==============================] - 6s 6ms/step - loss: 0.2866 - accuracy: 0.8953 - val_loss: 0.3149 - val_accuracy: 0.8818\n",
            "Epoch 6/10\n",
            "938/938 [==============================] - 6s 6ms/step - loss: 0.2711 - accuracy: 0.8998 - val_loss: 0.3023 - val_accuracy: 0.8885\n",
            "Epoch 7/10\n",
            "938/938 [==============================] - 5s 6ms/step - loss: 0.2548 - accuracy: 0.9060 - val_loss: 0.2859 - val_accuracy: 0.8952\n",
            "Epoch 8/10\n",
            "938/938 [==============================] - 5s 6ms/step - loss: 0.2449 - accuracy: 0.9094 - val_loss: 0.2852 - val_accuracy: 0.8964\n",
            "Epoch 9/10\n",
            "938/938 [==============================] - 5s 6ms/step - loss: 0.2328 - accuracy: 0.9133 - val_loss: 0.2752 - val_accuracy: 0.8982\n",
            "Epoch 10/10\n",
            "938/938 [==============================] - 5s 6ms/step - loss: 0.2222 - accuracy: 0.9161 - val_loss: 0.2667 - val_accuracy: 0.9025\n"
          ],
          "name": "stdout"
        },
        {
          "output_type": "execute_result",
          "data": {
            "text/plain": [
              "<tensorflow.python.keras.callbacks.History at 0x7f161017ddd8>"
            ]
          },
          "metadata": {
            "tags": []
          },
          "execution_count": 6
        }
      ]
    },
    {
      "cell_type": "code",
      "metadata": {
        "id": "OXADzI35Dw3g",
        "colab_type": "code",
        "colab": {
          "base_uri": "https://localhost:8080/",
          "height": 51
        },
        "outputId": "ac3eca49-477d-4b51-f050-accd4dd2a1b3"
      },
      "source": [
        "# Evaluate and serialize\n",
        "print(\"Test accuracy: {:.2f}\".format(teacher_model.evaluate(test_ds)[1]*100))\n",
        "teacher_model.save(\"teacher_model.h5\")"
      ],
      "execution_count": 7,
      "outputs": [
        {
          "output_type": "stream",
          "text": [
            "157/157 [==============================] - 1s 3ms/step - loss: 0.2667 - accuracy: 0.9025\n",
            "Test accuracy: 90.25\n"
          ],
          "name": "stdout"
        }
      ]
    },
    {
      "cell_type": "code",
      "metadata": {
        "id": "shnrhMFQFKwZ",
        "colab_type": "code",
        "colab": {}
      },
      "source": [
        "# Student model utility\n",
        "def get_student_model():\n",
        "    model = models.Sequential()\n",
        "    model.add(layers.Input(shape=(28, 28, 1)))\n",
        "    model.add(layers.Flatten())\n",
        "    model.add(layers.Dense(784, activation=\"relu\"))\n",
        "    model.add(layers.Dense(10))\n",
        "    \n",
        "    return model"
      ],
      "execution_count": 8,
      "outputs": []
    },
    {
      "cell_type": "code",
      "metadata": {
        "id": "dPFOtO4mGLIr",
        "colab_type": "code",
        "colab": {}
      },
      "source": [
        "# Credits: https://github.com/google-research/simclr/blob/master/colabs/distillation_self_training.ipynb\n",
        "def get_kd_loss(student_logits, teacher_logits, temperature=0.5):\n",
        "    teacher_probs = tf.nn.softmax(teacher_logits / temperature)\n",
        "    kd_loss = tf.compat.v1.losses.softmax_cross_entropy(\n",
        "        teacher_probs, student_logits / temperature, temperature**2)\n",
        "    return kd_loss"
      ],
      "execution_count": 9,
      "outputs": []
    },
    {
      "cell_type": "code",
      "metadata": {
        "id": "KDZ5DWUeGkK2",
        "colab_type": "code",
        "colab": {}
      },
      "source": [
        "# Model, optimizer\n",
        "student_model = get_student_model()\n",
        "optimizer = tf.keras.optimizers.Adam()\n",
        "\n",
        "# Average the loss across the batch size within an epoch\n",
        "train_loss = tf.keras.metrics.Mean(name=\"train_loss\")\n",
        "valid_loss = tf.keras.metrics.Mean(name=\"test_loss\")\n",
        "\n",
        "# Specify the performance metric\n",
        "train_acc = tf.keras.metrics.SparseCategoricalAccuracy(name=\"train_acc\")\n",
        "valid_acc = tf.keras.metrics.SparseCategoricalAccuracy(name=\"valid_acc\")"
      ],
      "execution_count": 10,
      "outputs": []
    },
    {
      "cell_type": "code",
      "metadata": {
        "id": "5w1sCCqQGeTe",
        "colab_type": "code",
        "colab": {}
      },
      "source": [
        "# Train the model\n",
        "@tf.function\n",
        "def model_train(images, labels):\n",
        "    teacher_logits = teacher_model(images)\n",
        "\n",
        "    with tf.GradientTape() as tape:\n",
        "        student_logits = student_model(images)\n",
        "        loss = get_kd_loss(student_logits, teacher_logits, temperature=0.5)\n",
        "    \n",
        "    gradients = tape.gradient(loss, student_model.trainable_variables)\n",
        "    optimizer.apply_gradients(zip(gradients, student_model.trainable_variables))\n",
        "\n",
        "    train_loss(loss)\n",
        "    train_acc(labels, tf.nn.softmax(student_logits))"
      ],
      "execution_count": 11,
      "outputs": []
    },
    {
      "cell_type": "code",
      "metadata": {
        "id": "qXjapT-hHeP1",
        "colab_type": "code",
        "colab": {}
      },
      "source": [
        "# Validating the model\n",
        "@tf.function\n",
        "def model_validate(images, labels):\n",
        "    teacher_logits = teacher_model(images)\n",
        "\n",
        "    student_logits = student_model(images)\n",
        "    loss = get_kd_loss(student_logits, teacher_logits, temperature=0.5)\n",
        "\n",
        "    valid_loss(loss)\n",
        "    valid_acc(labels, tf.nn.softmax(student_logits))"
      ],
      "execution_count": 12,
      "outputs": []
    },
    {
      "cell_type": "code",
      "metadata": {
        "id": "ph4r4J_zHqFE",
        "colab_type": "code",
        "colab": {
          "base_uri": "https://localhost:8080/",
          "height": 187
        },
        "outputId": "a6321e89-1197-4af6-bb7c-5bbf4aae4bc0"
      },
      "source": [
        "for epoch in range(10):\n",
        "    # Run the model through train and test sets respectively\n",
        "    for (images, labels) in train_ds:\n",
        "        model_train(images, labels)\n",
        "\n",
        "    for (images, labels) in test_ds:\n",
        "        model_validate(images, labels)\n",
        "        \n",
        "    # Grab the results\n",
        "    (loss, acc) = train_loss.result(), train_acc.result()\n",
        "    (val_loss, val_acc) = valid_loss.result(), valid_acc.result()\n",
        "    \n",
        "    # Clear the current state of the metrics\n",
        "    train_loss.reset_states(), train_acc.reset_states()\n",
        "    valid_loss.reset_states(), valid_acc.reset_states()\n",
        "    \n",
        "    # Local logging\n",
        "    template = \"Epoch {}, loss: {:.3f}, acc: {:.3f}, val_loss: {:.3f}, val_acc: {:.3f}\"\n",
        "    print (template.format(epoch+1,\n",
        "                         loss,\n",
        "                         acc,\n",
        "                         val_loss,\n",
        "                         val_acc))"
      ],
      "execution_count": 13,
      "outputs": [
        {
          "output_type": "stream",
          "text": [
            "Epoch 1, loss: 0.099, acc: 0.838, val_loss: 0.082, val_acc: 0.853\n",
            "Epoch 2, loss: 0.070, acc: 0.873, val_loss: 0.073, val_acc: 0.863\n",
            "Epoch 3, loss: 0.061, acc: 0.885, val_loss: 0.066, val_acc: 0.872\n",
            "Epoch 4, loss: 0.056, acc: 0.891, val_loss: 0.063, val_acc: 0.880\n",
            "Epoch 5, loss: 0.052, acc: 0.896, val_loss: 0.062, val_acc: 0.882\n",
            "Epoch 6, loss: 0.050, acc: 0.900, val_loss: 0.063, val_acc: 0.882\n",
            "Epoch 7, loss: 0.047, acc: 0.904, val_loss: 0.063, val_acc: 0.885\n",
            "Epoch 8, loss: 0.046, acc: 0.906, val_loss: 0.068, val_acc: 0.877\n",
            "Epoch 9, loss: 0.044, acc: 0.907, val_loss: 0.063, val_acc: 0.886\n",
            "Epoch 10, loss: 0.043, acc: 0.909, val_loss: 0.063, val_acc: 0.886\n"
          ],
          "name": "stdout"
        }
      ]
    },
    {
      "cell_type": "code",
      "metadata": {
        "id": "JDmJu5-GH40W",
        "colab_type": "code",
        "colab": {}
      },
      "source": [
        "# Serialize\n",
        "student_model.save(\"student_model.h5\")"
      ],
      "execution_count": 14,
      "outputs": []
    },
    {
      "cell_type": "code",
      "metadata": {
        "id": "rJeZK9enJct9",
        "colab_type": "code",
        "colab": {
          "base_uri": "https://localhost:8080/",
          "height": 51
        },
        "outputId": "533f6684-b6a8-41c2-f5c2-e86f2b7a0735"
      },
      "source": [
        "!ls -lh *.h5"
      ],
      "execution_count": 15,
      "outputs": [
        {
          "output_type": "stream",
          "text": [
            "-rw-r--r-- 1 root root 2.4M Aug 31 07:06 student_model.h5\n",
            "-rw-r--r-- 1 root root 982K Aug 31 07:05 teacher_model.h5\n"
          ],
          "name": "stdout"
        }
      ]
    },
    {
      "cell_type": "markdown",
      "metadata": {
        "id": "AzC3KhO_J42N",
        "colab_type": "text"
      },
      "source": [
        "Further size decrease is possible with TFLite. "
      ]
    },
    {
      "cell_type": "code",
      "metadata": {
        "id": "Z8d0R_ypVp8y",
        "colab_type": "code",
        "colab": {}
      },
      "source": [
        "# Credits: https://www.tensorflow.org/lite/performance/post_training_quant\n",
        "\n",
        "def representative_data_gen():\n",
        "    for input_value in tf.data.Dataset.from_tensor_slices(X_train).batch(1).take(100):\n",
        "        yield [input_value]\n",
        "\n",
        "def convert_to_tflite(model, tflite_file):\n",
        "    converter = tf.lite.TFLiteConverter.from_keras_model(model)\n",
        "    converter.optimizations = [tf.lite.Optimize.DEFAULT]\n",
        "    converter.representative_dataset = representative_data_gen\n",
        "    converter.target_spec.supported_ops = [tf.lite.OpsSet.TFLITE_BUILTINS_INT8]\n",
        "    converter.inference_input_type = tf.int8\n",
        "    converter.inference_output_type = tf.int8\n",
        "    tflite_quant_model = converter.convert()\n",
        "\n",
        "    open(tflite_file, 'wb').write(tflite_quant_model)"
      ],
      "execution_count": 19,
      "outputs": []
    },
    {
      "cell_type": "code",
      "metadata": {
        "id": "bZgxSge7Y3hU",
        "colab_type": "code",
        "colab": {
          "base_uri": "https://localhost:8080/",
          "height": 85
        },
        "outputId": "48c3a294-34bb-47d1-9dfa-6cc44d3de5af"
      },
      "source": [
        "convert_to_tflite(teacher_model, \"teacher.tflite\")\n",
        "convert_to_tflite(student_model, \"student.tflite\")"
      ],
      "execution_count": 20,
      "outputs": [
        {
          "output_type": "stream",
          "text": [
            "INFO:tensorflow:Assets written to: /tmp/tmpj76nijkr/assets\n"
          ],
          "name": "stdout"
        },
        {
          "output_type": "stream",
          "text": [
            "INFO:tensorflow:Assets written to: /tmp/tmpj76nijkr/assets\n"
          ],
          "name": "stderr"
        },
        {
          "output_type": "stream",
          "text": [
            "INFO:tensorflow:Assets written to: /tmp/tmpe5_7fs7r/assets\n"
          ],
          "name": "stdout"
        },
        {
          "output_type": "stream",
          "text": [
            "INFO:tensorflow:Assets written to: /tmp/tmpe5_7fs7r/assets\n"
          ],
          "name": "stderr"
        }
      ]
    },
    {
      "cell_type": "code",
      "metadata": {
        "id": "-f8eGqRtZA-w",
        "colab_type": "code",
        "colab": {
          "base_uri": "https://localhost:8080/",
          "height": 51
        },
        "outputId": "0670eb47-c572-4205-f3fe-eaa8b4d3aeb6"
      },
      "source": [
        "!ls -lh *.tflite"
      ],
      "execution_count": 21,
      "outputs": [
        {
          "output_type": "stream",
          "text": [
            "-rw-r--r-- 1 root root 613K Aug 31 07:24 student.tflite\n",
            "-rw-r--r-- 1 root root  85K Aug 31 07:24 teacher.tflite\n"
          ],
          "name": "stdout"
        }
      ]
    }
  ]
}